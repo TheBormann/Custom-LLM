{
  "cells": [
    {
      "cell_type": "markdown",
      "metadata": {},
      "source": [
        "# Training Custom LLM on Google Colab\n",
        "This notebook implements the training pipeline for our custom language model using Google Colab's free GPU resources."
      ]
    },
    {
      "cell_type": "code",
      "execution_count": null,
      "metadata": {},
      "outputs": [],
      "source": [
        "# Check if GPU is available\n",
        "!nvidia-smi"
      ]
    },
    {
      "cell_type": "code",
      "execution_count": null,
      "metadata": {},
      "outputs": [],
      "source": [
        "# Mount Google Drive\n",
        "from google.colab import drive\n",
        "drive.mount('/content/drive')"
      ]
    },
    {
      "cell_type": "code",
      "execution_count": null,
      "metadata": {},
      "outputs": [],
      "source": [
        "# Clone the repository\n",
        "!git clone https://github.com/TheBormann/Custom-LLM.git\n",
        "!cd Custom-LLM && pip install -r requirements.txt"
      ]
    },
    {
      "cell_type": "code",
      "execution_count": null,
      "metadata": {},
      "outputs": [],
      "source": [
        "import sys\n",
        "sys.path.append('/content/Custom-LLM')\n",
        "\n",
        "import torch\n",
        "from transformers import AutoTokenizer\n",
        "from datasets import load_dataset\n",
        "\n",
        "import wandb\n",
        "import logging\n",
        "from src.utils.logging_config import setup_logging\n",
        "\n",
        "from src.model.transformer import CustomTransformer\n",
        "from src.training.trainer import Trainer\n",
        "from src.data.data_processor import DataProcessor\n",
        "\n",
        "wandb.init(project=\"Custom-LLM\", settings=wandb.Settings(console=\"off\"))\n",
        "setup_logging(log_level=logging.WARNING, log_to_file=True)"
      ]
    },
    {
      "cell_type": "code",
      "execution_count": null,
      "metadata": {},
      "outputs": [],
      "source": [
        "# Load WikiText-2 dataset\n",
        "dataset = load_dataset('wikitext', 'wikitext-2-raw-v1')\n",
        "\n",
        "# Initialize tokenizer\n",
        "tokenizer = AutoTokenizer.from_pretrained('gpt2')  # Using GPT-2 tokenizer\n",
        "\n",
        "# Process training data\n",
        "train_texts = dataset['train']['text']\n",
        "val_texts = dataset['validation']['text']\n",
        "\n",
        "# Initialize data processor\n",
        "data_processor = DataProcessor(\n",
        "    tokenizer=tokenizer,\n",
        "    max_length=512,\n",
        "    batch_size=8  # Larger batch size for GPU\n",
        ")\n",
        "\n",
        "# Create dataloaders\n",
        "train_dataloader, val_dataloader = data_processor.prepare_data(\n",
        "    texts=train_texts,\n",
        "    split_ratio=0.1\n",
        ")"
      ]
    },
    {
      "cell_type": "code",
      "execution_count": null,
      "metadata": {},
      "outputs": [],
      "source": [
        "# Initialize model with larger configuration for GPU training\n",
        "model = CustomTransformer(\n",
        "    vocab_size=len(tokenizer),\n",
        "    d_model=512,\n",
        "    n_heads=8,\n",
        "    n_layers=4,\n",
        "    d_ff=2048,\n",
        "    dropout=0.1\n",
        ").to(\"cuda\" if torch.cuda.is_available() else \"cpu\") \n",
        "\n",
        "scaler = torch.amp.GradScaler('cuda')\n",
        "\n",
        "print(f'Model Parameters: {sum(p.numel() for p in model.parameters())/1e6:.2f}M')\n",
        "print(f'Device: {\"cuda\" if torch.cuda.is_available() else \"cpu\"}')"
      ]
    },
    {
      "cell_type": "code",
      "execution_count": null,
      "metadata": {},
      "outputs": [],
      "source": [
        "# Initialize trainer\n",
        "trainer = Trainer(\n",
        "    model=model,\n",
        "    learning_rate=1e-5,\n",
        "    warmup_steps=200,\n",
        "    max_grad_norm=1.0,\n",
        "    use_wandb=True\n",
        ")\n",
        "\n",
        "# Training configuration\n",
        "EPOCHS = 10\n",
        "CHECKPOINT_PATH = '/content/drive/MyDrive/custom_llm_checkpoints/model.pt'\n",
        "\n",
        "torch.cuda.empty_cache()\n",
        "\n",
        "# Start training\n",
        "history = trainer.train(\n",
        "    train_dataloader=train_dataloader,\n",
        "    val_dataloader=val_dataloader,\n",
        "    epochs=EPOCHS,\n",
        "    save_path=CHECKPOINT_PATH,\n",
        "    log_interval=100\n",
        ")\n",
        "\n",
        "torch.cuda.empty_cache()"
      ]
    },
    {
      "cell_type": "code",
      "execution_count": null,
      "metadata": {},
      "outputs": [],
      "source": [
        "import matplotlib.pyplot as plt\n",
        "\n",
        "# Plot training and validation loss\n",
        "plt.figure(figsize=(10, 5))\n",
        "plt.plot(history['train_loss'], label='Training Loss')\n",
        "plt.plot(history['val_loss'], label='Validation Loss')\n",
        "plt.title('Training and Validation Loss')\n",
        "plt.xlabel('Epoch')\n",
        "plt.ylabel('Loss')\n",
        "plt.legend()\n",
        "plt.show()\n",
        "\n",
        "# Plot perplexity\n",
        "plt.figure(figsize=(10, 5))\n",
        "plt.plot(history['train_perplexity'], label='Training Perplexity')\n",
        "plt.plot(history['val_perplexity'], label='Validation Perplexity')\n",
        "plt.title('Training and Validation Perplexity')\n",
        "plt.xlabel('Epoch')\n",
        "plt.ylabel('Perplexity')\n",
        "plt.legend()\n",
        "plt.show()"
      ]
    }
  ],
  "metadata": {
    "accelerator": "GPU",
    "colab": {
      "gpuType": "T4"
    },
    "kernelspec": {
      "display_name": "venv",
      "language": "python",
      "name": "python3"
    },
    "language_info": {
      "codemirror_mode": {
        "name": "ipython",
        "version": 3
      },
      "file_extension": ".py",
      "mimetype": "text/x-python",
      "name": "python",
      "nbconvert_exporter": "python",
      "pygments_lexer": "ipython3",
      "version": "3.12.2"
    }
  },
  "nbformat": 4,
  "nbformat_minor": 4
}
