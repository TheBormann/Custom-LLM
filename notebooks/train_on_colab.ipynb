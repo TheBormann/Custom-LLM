{
  "cells": [
    {
      "cell_type": "markdown",
      "metadata": {},
      "source": [
        "# Training Custom LLM on Google Colab\n",
        "This notebook implements the training pipeline for our custom language model using Google Colab's free GPU resources."
      ]
    },
    {
      "cell_type": "code",
      "execution_count": null,
      "metadata": {},
      "outputs": [],
      "source": [
        "# Check if GPU is available\n",
        "!nvidia-smi"
      ]
    },
    {
      "cell_type": "code",
      "execution_count": null,
      "metadata": {},
      "outputs": [],
      "source": [
        "# Mount Google Drive\n",
        "from google.colab import drive\n",
        "drive.mount('/content/drive')"
      ]
    },
    {
      "cell_type": "code",
      "execution_count": null,
      "metadata": {},
      "outputs": [],
      "source": [
        "# Clone the repository\n",
        "!git clone https://github.com/TheBormann/Custom-LLM.git\n",
        "!cd Custom-LLM && pip install -r requirements.txt"
      ]
    },
    {
      "cell_type": "code",
      "execution_count": null,
      "metadata": {},
      "outputs": [],
      "source": [
        "import sys\n",
        "sys.path.append('/content/Custom-LLM')\n",
        "\n",
        "import torch\n",
        "from src.model.transformer import CustomTransformer\n",
        "from src.data.data_processor import DataProcessor\n",
        "from src.training.trainer import Trainer\n",
        "from transformers import AutoTokenizer"
      ]
    },
    {
      "cell_type": "code",
      "execution_count": null,
      "metadata": {},
      "outputs": [],
      "source": [
        "# Import required libraries\n",
        "from datasets import load_dataset\n",
        "\n",
        "# Initialize tokenizer\n",
        "tokenizer = AutoTokenizer.from_pretrained('gpt2')  # Using GPT-2 tokenizer\n",
        "tokenizer.pad_token = tokenizer.eos_token  # Set padding token to EOS token\n",
        "\n",
        "# Load WikiText-2 dataset\n",
        "dataset = load_dataset('wikitext', 'wikitext-2-v1')\n",
        "\n",
        "# Extract texts from the dataset\n",
        "train_data = dataset['train'] \n",
        "texts = train_data['text']\n",
        "\n",
        "# Initialize data processor\n",
        "data_processor = DataProcessor(tokenizer=tokenizer)\n",
        "train_dataloader, val_dataloader = data_processor.prepare_data(texts)"
      ]
    },
    {
      "cell_type": "code",
      "execution_count": null,
      "metadata": {},
      "outputs": [],
      "source": [
        "# Initialize model\n",
        "model = CustomTransformer(\n",
        "    vocab_size=tokenizer.vocab_size,\n",
        "    d_model=768,\n",
        "    n_heads=12,\n",
        "    n_layers=6,\n",
        "    d_ff=3072\n",
        ")\n",
        "\n",
        "# Initialize trainer\n",
        "trainer = Trainer(\n",
        "    model=model,\n",
        "    learning_rate=1e-4,\n",
        "    warmup_steps=4000,\n",
        "    max_grad_norm=1.0,\n",
        "    use_wandb=True  # Set to True if using Weights & Biases\n",
        ")"
      ]
    },
    {
      "cell_type": "code",
      "execution_count": null,
      "metadata": {},
      "outputs": [],
      "source": [
        "# Training configuration\n",
        "EPOCHS = 10\n",
        "CHECKPOINT_PATH = '/content/drive/MyDrive/custom_llm_checkpoints/model.pt'\n",
        "\n",
        "# Start training\n",
        "history = trainer.train(\n",
        "    train_dataloader=train_dataloader,\n",
        "    val_dataloader=val_dataloader,\n",
        "    epochs=EPOCHS,\n",
        "    save_path=CHECKPOINT_PATH,\n",
        "    log_interval=100\n",
        ")"
      ]
    },
    {
      "cell_type": "markdown",
      "metadata": {},
      "source": [
        "## Training Results\n",
        "The model checkpoints are saved to Google Drive. You can load them later for inference or continue training."
      ]
    }
  ],
  "metadata": {
    "accelerator": "GPU",
    "colab": {
      "gpuType": "T4"
    },
    "kernelspec": {
      "display_name": "venv",
      "language": "python",
      "name": "python3"
    },
    "language_info": {
      "codemirror_mode": {
        "name": "ipython",
        "version": 3
      },
      "file_extension": ".py",
      "mimetype": "text/x-python",
      "name": "python",
      "nbconvert_exporter": "python",
      "pygments_lexer": "ipython3",
      "version": "3.12.2"
    }
  },
  "nbformat": 4,
  "nbformat_minor": 4
}
