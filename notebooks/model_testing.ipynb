{
 "cells": [
  {
   "cell_type": "markdown",
   "metadata": {},
   "source": [
    "# Testing the Custom LLM Model\n",
    "\n",
    "This notebook demonstrates how to use the trained Custom LLM model for text generation. We'll explore:\n",
    "\n",
    "1. Loading a pretrained model checkpoint\n",
    "2. Basic text generation with different parameters\n",
    "3. Batch generation for multiple prompts\n",
    "4. Effect of temperature and sampling parameters"
   ]
  },
  {
   "cell_type": "code",
   "execution_count": 1,
   "metadata": {},
   "outputs": [
    {
     "name": "stderr",
     "output_type": "stream",
     "text": [
      "c:\\Git\\Custom-LLM\\venv\\lib\\site-packages\\tqdm\\auto.py:21: TqdmWarning: IProgress not found. Please update jupyter and ipywidgets. See https://ipywidgets.readthedocs.io/en/stable/user_install.html\n",
      "  from .autonotebook import tqdm as notebook_tqdm\n"
     ]
    },
    {
     "data": {
      "text/plain": [
       "<torch._C.Generator at 0x1703f944bb0>"
      ]
     },
     "execution_count": 1,
     "metadata": {},
     "output_type": "execute_result"
    }
   ],
   "source": [
    "import sys\n",
    "sys.path.append('..') \n",
    "\n",
    "import torch\n",
    "from transformers import AutoTokenizer\n",
    "from src.inference.inference_pipeline import InferencePipeline\n",
    "\n",
    "# Set random seed for reproducibility\n",
    "torch.manual_seed(42)"
   ]
  },
  {
   "cell_type": "markdown",
   "metadata": {},
   "source": [
    "## Load Model and Tokenizer\n",
    "\n",
    "First, we'll load a pretrained tokenizer and our trained model checkpoint."
   ]
  },
  {
   "cell_type": "code",
   "execution_count": 2,
   "metadata": {},
   "outputs": [],
   "source": [
    "# Initialize tokenizer (update with your preferred base model)\n",
    "tokenizer = AutoTokenizer.from_pretrained('gpt2')  # Example using GPT-2 tokenizer\n",
    "\n",
    "# Load the model checkpoint\n",
    "model_path = '../checkpoints/model.pt'  # Update with your model path\n",
    "pipeline = InferencePipeline.from_pretrained(\n",
    "    model_path=model_path,\n",
    "    tokenizer=tokenizer,\n",
    "    model_config={    \n",
    "                'd_model': 512,  # Smaller dimension\n",
    "                'n_heads': 8,   # Fewer attention heads\n",
    "                'n_layers': 4,  # Fewer layers\n",
    "                'd_ff': 2048,   # Smaller feed-forward dimension\n",
    "                'dropout': 0.1\n",
    "    }\n",
    ")"
   ]
  },
  {
   "cell_type": "markdown",
   "metadata": {},
   "source": [
    "## Basic Text Generation\n",
    "\n",
    "Let's try generating text with default parameters."
   ]
  },
  {
   "cell_type": "code",
   "execution_count": 47,
   "metadata": {},
   "outputs": [
    {
     "name": "stdout",
     "output_type": "stream",
     "text": [
      "Prompt: Albert Einstein was born in\n",
      "Generated: Albert Einstein was born in germany , d - off the last of the new york and in the city of the north america , and was first time of the nichigan  the first of the british and by the june , the original series as a few  in the south of the new ylantic were the area . it was in the game . the united states  , the two british of this time of the main 's. and three years .\n"
     ]
    }
   ],
   "source": [
    "prompt = \"Albert Einstein was born in\"\n",
    "\n",
    "# Generate with default parameters\n",
    "generated_text = pipeline.generate(\n",
    "    prompt=prompt,\n",
    "    max_length=100,\n",
    "    num_return_sequences=1\n",
    ")\n",
    "\n",
    "print(f\"Prompt: {prompt}\")\n",
    "print(f\"Generated: {generated_text[0]}\")"
   ]
  },
  {
   "cell_type": "markdown",
   "metadata": {},
   "source": [
    "## Exploring Temperature Effects\n",
    "\n",
    "Now let's see how different temperature values affect the output. Higher temperature (>1.0) makes the output more random, while lower temperature (<1.0) makes it more focused and deterministic."
   ]
  },
  {
   "cell_type": "code",
   "execution_count": 4,
   "metadata": {},
   "outputs": [
    {
     "name": "stdout",
     "output_type": "stream",
     "text": [
      "Temperature: 0.5\n",
      "Generated: In the year 2050, robots williams of the first - yard line of the \" , the film 's.s.s.s \"\n",
      "Temperature: 1.0\n",
      "Generated: In the year 2050, robots will and is the united states is a nba of his first time , his son of a large for a book , which israel  .\n",
      "Temperature: 1.5\n",
      "Generated: In the year 2050, robots will she is not become a \" a three their final but had little to be able to its own , with other at least the film 'm that one \" and some of the area a member that the time or \" that a total is based by all he 'mal season .\n"
     ]
    }
   ],
   "source": [
    "prompt = \"In the year 2050, robots will\"\n",
    "\n",
    "# Try different temperatures\n",
    "temperatures = [0.5, 1.0, 1.5]\n",
    "\n",
    "for temp in temperatures:\n",
    "    print(f\"Temperature: {temp}\")\n",
    "    generated = pipeline.generate(\n",
    "        prompt=prompt,\n",
    "        max_length=100,\n",
    "        temperature=temp,\n",
    "        num_return_sequences=1\n",
    "    )\n",
    "    print(f\"Generated: {generated[0]}\")"
   ]
  },
  {
   "cell_type": "markdown",
   "metadata": {},
   "source": [
    "## Top-k and Top-p Sampling\n",
    "\n",
    "Let's experiment with different sampling strategies using top-k and nucleus (top-p) sampling."
   ]
  },
  {
   "cell_type": "code",
   "execution_count": 5,
   "metadata": {},
   "outputs": [
    {
     "name": "stdout",
     "output_type": "stream",
     "text": [
      "Config: {'top_k': 50, 'top_p': 0.9}\n",
      "Generated: The future of space exploration for the \" of the nlotte , and the west and then the last german  \" , the other and the main in the song in the city , where the hms , it \"  h  1 .\n",
      "Config: {'top_k': 10, 'top_p': 0.9}\n",
      "Generated: The future of space exploration .\n",
      "Config: {'top_k': 50, 'top_p': 0.5}\n",
      "Generated: The future of space exploration\n"
     ]
    }
   ],
   "source": [
    "prompt = \"The future of space exploration\"\n",
    "\n",
    "# Different sampling configurations\n",
    "configs = [\n",
    "    {'top_k': 50, 'top_p': 0.9},\n",
    "    {'top_k': 10, 'top_p': 0.9},\n",
    "    {'top_k': 50, 'top_p': 0.5}\n",
    "]\n",
    "\n",
    "for config in configs:\n",
    "    print(f\"Config: {config}\")\n",
    "    generated = pipeline.generate(\n",
    "        prompt=prompt,\n",
    "        max_length=100,\n",
    "        temperature=1.0,\n",
    "        **config\n",
    "    )\n",
    "    print(f\"Generated: {generated[0]}\")"
   ]
  },
  {
   "cell_type": "markdown",
   "metadata": {},
   "source": [
    "## Batch Generation\n",
    "\n",
    "Finally, let's try generating multiple sequences in batch mode."
   ]
  },
  {
   "cell_type": "code",
   "execution_count": 6,
   "metadata": {},
   "outputs": [
    {
     "name": "stdout",
     "output_type": "stream",
     "text": [
      "Prompt: The key to successful AI development is\n",
      "Generated: The key to successful AI development is the song .\n",
      "Prompt: In the next decade, quantum computing will\n",
      "Generated: In the next decade, quantum computing williams.  1  , which is a  . he is a result in the united states .\n",
      "Prompt: The relationship between humans and AI will\n",
      "Generated: The relationship between humans and AI william\n"
     ]
    }
   ],
   "source": [
    "prompts = [\n",
    "    \"The key to successful AI development is\",\n",
    "    \"In the next decade, quantum computing will\",\n",
    "    \"The relationship between humans and AI will\"\n",
    "]\n",
    "\n",
    "# Generate multiple sequences in batch\n",
    "batch_generated = pipeline.batch_generate(\n",
    "    prompts=prompts,\n",
    "    batch_size=2,\n",
    "    max_length=100,\n",
    "    temperature=0.8,\n",
    "    top_k=40,\n",
    "    top_p=0.9\n",
    ")\n",
    "\n",
    "for prompt, generated in zip(prompts, batch_generated):\n",
    "    print(f\"Prompt: {prompt}\")\n",
    "    print(f\"Generated: {generated}\")"
   ]
  }
 ],
 "metadata": {
  "kernelspec": {
   "display_name": "venv",
   "language": "python",
   "name": "python3"
  },
  "language_info": {
   "codemirror_mode": {
    "name": "ipython",
    "version": 3
   },
   "file_extension": ".py",
   "mimetype": "text/x-python",
   "name": "python",
   "nbconvert_exporter": "python",
   "pygments_lexer": "ipython3",
   "version": "3.9.5"
  }
 },
 "nbformat": 4,
 "nbformat_minor": 4
}
