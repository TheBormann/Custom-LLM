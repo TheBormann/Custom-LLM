{
 "cells": [
  {
   "cell_type": "markdown",
   "metadata": {},
   "source": [
    "# Testing the Custom LLM Model\n",
    "\n",
    "This notebook demonstrates how to use the trained Custom LLM model for text generation. We'll explore:\n",
    "\n",
    "1. Loading a pretrained model checkpoint\n",
    "2. Basic text generation with different parameters\n",
    "3. Batch generation for multiple prompts\n",
    "4. Effect of temperature and sampling parameters"
   ]
  },
  {
   "cell_type": "code",
   "execution_count": 3,
   "metadata": {},
   "outputs": [
    {
     "data": {
      "text/plain": [
       "<torch._C.Generator at 0x1ead3ce1c30>"
      ]
     },
     "execution_count": 3,
     "metadata": {},
     "output_type": "execute_result"
    }
   ],
   "source": [
    "import sys\n",
    "sys.path.append('..') \n",
    "\n",
    "import torch\n",
    "from transformers import AutoTokenizer\n",
    "from src.inference.inference_pipeline import InferencePipeline\n",
    "\n",
    "# Set random seed for reproducibility\n",
    "torch.manual_seed(42)"
   ]
  },
  {
   "cell_type": "markdown",
   "metadata": {},
   "source": [
    "## Load Model and Tokenizer\n",
    "\n",
    "First, we'll load a pretrained tokenizer and our trained model checkpoint."
   ]
  },
  {
   "cell_type": "code",
   "execution_count": 9,
   "metadata": {},
   "outputs": [
    {
     "ename": "KeyError",
     "evalue": "'model_state_dict'",
     "output_type": "error",
     "traceback": [
      "\u001b[1;31m---------------------------------------------------------------------------\u001b[0m",
      "\u001b[1;31mKeyError\u001b[0m                                  Traceback (most recent call last)",
      "Cell \u001b[1;32mIn[9], line 6\u001b[0m\n\u001b[0;32m      4\u001b[0m \u001b[38;5;66;03m# Load the model checkpoint\u001b[39;00m\n\u001b[0;32m      5\u001b[0m model_path \u001b[38;5;241m=\u001b[39m \u001b[38;5;124m'\u001b[39m\u001b[38;5;124m../checkpoints/model.pt\u001b[39m\u001b[38;5;124m'\u001b[39m  \u001b[38;5;66;03m# Update with your model path\u001b[39;00m\n\u001b[1;32m----> 6\u001b[0m pipeline \u001b[38;5;241m=\u001b[39m \u001b[43mInferencePipeline\u001b[49m\u001b[38;5;241;43m.\u001b[39;49m\u001b[43mfrom_pretrained\u001b[49m\u001b[43m(\u001b[49m\n\u001b[0;32m      7\u001b[0m \u001b[43m    \u001b[49m\u001b[43mmodel_path\u001b[49m\u001b[38;5;241;43m=\u001b[39;49m\u001b[43mmodel_path\u001b[49m\u001b[43m,\u001b[49m\n\u001b[0;32m      8\u001b[0m \u001b[43m    \u001b[49m\u001b[43mtokenizer\u001b[49m\u001b[38;5;241;43m=\u001b[39;49m\u001b[43mtokenizer\u001b[49m\u001b[43m,\u001b[49m\n\u001b[0;32m      9\u001b[0m \u001b[43m    \u001b[49m\u001b[43mmodel_config\u001b[49m\u001b[38;5;241;43m=\u001b[39;49m\u001b[43m{\u001b[49m\u001b[43m    \u001b[49m\n\u001b[0;32m     10\u001b[0m \u001b[43m                \u001b[49m\u001b[38;5;124;43m'\u001b[39;49m\u001b[38;5;124;43md_model\u001b[39;49m\u001b[38;5;124;43m'\u001b[39;49m\u001b[43m:\u001b[49m\u001b[43m \u001b[49m\u001b[38;5;241;43m512\u001b[39;49m\u001b[43m,\u001b[49m\u001b[43m  \u001b[49m\u001b[38;5;66;43;03m# Smaller dimension\u001b[39;49;00m\n\u001b[0;32m     11\u001b[0m \u001b[43m                \u001b[49m\u001b[38;5;124;43m'\u001b[39;49m\u001b[38;5;124;43mn_heads\u001b[39;49m\u001b[38;5;124;43m'\u001b[39;49m\u001b[43m:\u001b[49m\u001b[43m \u001b[49m\u001b[38;5;241;43m8\u001b[39;49m\u001b[43m,\u001b[49m\u001b[43m   \u001b[49m\u001b[38;5;66;43;03m# Fewer attention heads\u001b[39;49;00m\n\u001b[0;32m     12\u001b[0m \u001b[43m                \u001b[49m\u001b[38;5;124;43m'\u001b[39;49m\u001b[38;5;124;43mn_layers\u001b[39;49m\u001b[38;5;124;43m'\u001b[39;49m\u001b[43m:\u001b[49m\u001b[43m \u001b[49m\u001b[38;5;241;43m4\u001b[39;49m\u001b[43m,\u001b[49m\u001b[43m  \u001b[49m\u001b[38;5;66;43;03m# Fewer layers\u001b[39;49;00m\n\u001b[0;32m     13\u001b[0m \u001b[43m                \u001b[49m\u001b[38;5;124;43m'\u001b[39;49m\u001b[38;5;124;43md_ff\u001b[39;49m\u001b[38;5;124;43m'\u001b[39;49m\u001b[43m:\u001b[49m\u001b[43m \u001b[49m\u001b[38;5;241;43m2048\u001b[39;49m\u001b[43m,\u001b[49m\u001b[43m   \u001b[49m\u001b[38;5;66;43;03m# Smaller feed-forward dimension\u001b[39;49;00m\n\u001b[0;32m     14\u001b[0m \u001b[43m                \u001b[49m\u001b[38;5;124;43m'\u001b[39;49m\u001b[38;5;124;43mdropout\u001b[39;49m\u001b[38;5;124;43m'\u001b[39;49m\u001b[43m:\u001b[49m\u001b[43m \u001b[49m\u001b[38;5;241;43m0.1\u001b[39;49m\n\u001b[0;32m     15\u001b[0m \u001b[43m    \u001b[49m\u001b[43m}\u001b[49m\n\u001b[0;32m     16\u001b[0m \u001b[43m)\u001b[49m\n",
      "File \u001b[1;32mc:\\Git\\Custom-LLM\\notebooks\\..\\src\\inference\\inference_pipeline.py:74\u001b[0m, in \u001b[0;36mInferencePipeline.from_pretrained\u001b[1;34m(cls, model_path, tokenizer, device, model_config)\u001b[0m\n\u001b[0;32m     68\u001b[0m model \u001b[38;5;241m=\u001b[39m CustomTransformer(\n\u001b[0;32m     69\u001b[0m     vocab_size\u001b[38;5;241m=\u001b[39m\u001b[38;5;28mlen\u001b[39m(tokenizer),\n\u001b[0;32m     70\u001b[0m     \u001b[38;5;241m*\u001b[39m\u001b[38;5;241m*\u001b[39mdefault_config\n\u001b[0;32m     71\u001b[0m )\n\u001b[0;32m     73\u001b[0m \u001b[38;5;66;03m# Load model state\u001b[39;00m\n\u001b[1;32m---> 74\u001b[0m model\u001b[38;5;241m.\u001b[39mload_state_dict(\u001b[43mcheckpoint\u001b[49m\u001b[43m[\u001b[49m\u001b[38;5;124;43m'\u001b[39;49m\u001b[38;5;124;43mmodel_state_dict\u001b[39;49m\u001b[38;5;124;43m'\u001b[39;49m\u001b[43m]\u001b[49m)\n\u001b[0;32m     76\u001b[0m \u001b[38;5;28;01mreturn\u001b[39;00m \u001b[38;5;28mcls\u001b[39m(model, tokenizer, device)\n",
      "\u001b[1;31mKeyError\u001b[0m: 'model_state_dict'"
     ]
    }
   ],
   "source": [
    "# Initialize tokenizer (update with your preferred base model)\n",
    "tokenizer = AutoTokenizer.from_pretrained('gpt2')  # Example using GPT-2 tokenizer\n",
    "\n",
    "# Load the model checkpoint\n",
    "model_path = '../checkpoints/model.pt'  # Update with your model path\n",
    "pipeline = InferencePipeline.from_pretrained(\n",
    "    model_path=model_path,\n",
    "    tokenizer=tokenizer,\n",
    "    model_config={    \n",
    "                'd_model': 512,  # Smaller dimension\n",
    "                'n_heads': 8,   # Fewer attention heads\n",
    "                'n_layers': 4,  # Fewer layers\n",
    "                'd_ff': 2048,   # Smaller feed-forward dimension\n",
    "                'dropout': 0.1\n",
    "    }\n",
    ")"
   ]
  },
  {
   "cell_type": "markdown",
   "metadata": {},
   "source": [
    "## Basic Text Generation\n",
    "\n",
    "Let's try generating text with default parameters."
   ]
  },
  {
   "cell_type": "code",
   "execution_count": null,
   "metadata": {},
   "outputs": [],
   "source": [
    "prompt = \"The artificial intelligence revolution will\"\n",
    "\n",
    "# Generate with default parameters\n",
    "generated_text = pipeline.generate(\n",
    "    prompt=prompt,\n",
    "    max_length=100,\n",
    "    num_return_sequences=1\n",
    ")\n",
    "\n",
    "print(f\"Prompt: {prompt}\")\n",
    "print(f\"Generated: {generated_text[0]}\")"
   ]
  },
  {
   "cell_type": "markdown",
   "metadata": {},
   "source": [
    "## Exploring Temperature Effects\n",
    "\n",
    "Now let's see how different temperature values affect the output. Higher temperature (>1.0) makes the output more random, while lower temperature (<1.0) makes it more focused and deterministic."
   ]
  },
  {
   "cell_type": "code",
   "execution_count": null,
   "metadata": {},
   "outputs": [],
   "source": [
    "prompt = \"In the year 2050, robots will\"\n",
    "\n",
    "# Try different temperatures\n",
    "temperatures = [0.5, 1.0, 1.5]\n",
    "\n",
    "for temp in temperatures:\n",
    "    print(f\"Temperature: {temp}\")\n",
    "    generated = pipeline.generate(\n",
    "        prompt=prompt,\n",
    "        max_length=100,\n",
    "        temperature=temp,\n",
    "        num_return_sequences=1\n",
    "    )\n",
    "    print(f\"Generated: {generated[0]}\")"
   ]
  },
  {
   "cell_type": "markdown",
   "metadata": {},
   "source": [
    "## Top-k and Top-p Sampling\n",
    "\n",
    "Let's experiment with different sampling strategies using top-k and nucleus (top-p) sampling."
   ]
  },
  {
   "cell_type": "code",
   "execution_count": null,
   "metadata": {},
   "outputs": [],
   "source": [
    "prompt = \"The future of space exploration\"\n",
    "\n",
    "# Different sampling configurations\n",
    "configs = [\n",
    "    {'top_k': 50, 'top_p': 0.9},\n",
    "    {'top_k': 10, 'top_p': 0.9},\n",
    "    {'top_k': 50, 'top_p': 0.5}\n",
    "]\n",
    "\n",
    "for config in configs:\n",
    "    print(f\"Config: {config}\")\n",
    "    generated = pipeline.generate(\n",
    "        prompt=prompt,\n",
    "        max_length=100,\n",
    "        temperature=1.0,\n",
    "        **config\n",
    "    )\n",
    "    print(f\"Generated: {generated[0]}\")"
   ]
  },
  {
   "cell_type": "markdown",
   "metadata": {},
   "source": [
    "## Batch Generation\n",
    "\n",
    "Finally, let's try generating multiple sequences in batch mode."
   ]
  },
  {
   "cell_type": "code",
   "execution_count": null,
   "metadata": {},
   "outputs": [],
   "source": [
    "prompts = [\n",
    "    \"The key to successful AI development is\",\n",
    "    \"In the next decade, quantum computing will\",\n",
    "    \"The relationship between humans and AI will\"\n",
    "]\n",
    "\n",
    "# Generate multiple sequences in batch\n",
    "batch_generated = pipeline.batch_generate(\n",
    "    prompts=prompts,\n",
    "    batch_size=2,\n",
    "    max_length=100,\n",
    "    temperature=0.8,\n",
    "    top_k=40,\n",
    "    top_p=0.9\n",
    ")\n",
    "\n",
    "for prompt, generated in zip(prompts, batch_generated):\n",
    "    print(f\"Prompt: {prompt}\")\n",
    "    print(f\"Generated: {generated}\")"
   ]
  }
 ],
 "metadata": {
  "kernelspec": {
   "display_name": "venv",
   "language": "python",
   "name": "python3"
  },
  "language_info": {
   "codemirror_mode": {
    "name": "ipython",
    "version": 3
   },
   "file_extension": ".py",
   "mimetype": "text/x-python",
   "name": "python",
   "nbconvert_exporter": "python",
   "pygments_lexer": "ipython3",
   "version": "3.9.5"
  }
 },
 "nbformat": 4,
 "nbformat_minor": 4
}
