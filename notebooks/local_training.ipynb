{
  "cells": [
    {
      "cell_type": "markdown",
      "metadata": {},
      "source": [
        "# Local Training Notebook for Custom LLM"
      ]
    },
    {
      "cell_type": "code",
      "execution_count": null,
      "metadata": {},
      "outputs": [],
      "source": [
        "import sys\n",
        "sys.path.append('..')  # Add parent directory to path\n",
        "\n",
        "import torch\n",
        "from transformers import AutoTokenizer\n",
        "from datasets import load_dataset\n",
        "\n",
        "from src.model.transformer import CustomTransformer\n",
        "from src.training.trainer import Trainer\n",
        "from src.data.data_processor import DataProcessor"
      ]
    },
    {
      "cell_type": "markdown",
      "metadata": {},
      "source": [
        "## 1. Load and Prepare Data\n",
        "\n",
        "We'll use WikiText-2 dataset for testing, which is smaller than WikiText-103 used in the full training."
      ]
    },
    {
      "cell_type": "code",
      "execution_count": 2,
      "metadata": {},
      "outputs": [],
      "source": [
        "# Load WikiText-2 dataset\n",
        "dataset = load_dataset('wikitext', 'wikitext-2-raw-v1')\n",
        "\n",
        "# Initialize tokenizer\n",
        "tokenizer = AutoTokenizer.from_pretrained('gpt2')  # Using GPT-2 tokenizer\n",
        "\n",
        "# Process training data\n",
        "train_texts = dataset['train']['text']\n",
        "val_texts = dataset['validation']['text']\n",
        "\n",
        "# Initialize data processor\n",
        "data_processor = DataProcessor(\n",
        "    tokenizer=tokenizer,\n",
        "    max_length=512,  # Shorter sequence length for testing\n",
        "    batch_size=8  # Smaller batch size for local training\n",
        ")\n",
        "\n",
        "# Create dataloaders\n",
        "train_dataloader, val_dataloader = data_processor.prepare_data(\n",
        "    texts=train_texts,\n",
        "    split_ratio=0.1\n",
        ")"
      ]
    },
    {
      "cell_type": "markdown",
      "metadata": {},
      "source": [
        "## 2. Initialize Model\n",
        "\n",
        "We'll create a smaller version of the model for testing purposes."
      ]
    },
    {
      "cell_type": "code",
      "execution_count": null,
      "metadata": {},
      "outputs": [],
      "source": [
        "# Model configuration\n",
        "model = CustomTransformer(\n",
        "    vocab_size=len(tokenizer),\n",
        "    d_model=256,  # Smaller dimension\n",
        "    n_heads=4,   # Fewer attention heads\n",
        "    n_layers=4,  # Fewer layers\n",
        "    d_ff=1024,   # Smaller feed-forward dimension\n",
        "    dropout=0.1\n",
        ")\n",
        "\n",
        "print(f'Model Parameters: {sum(p.numel() for p in model.parameters())/1e6:.2f}M')\n",
        "print(f'Device: {'cuda' if torch.cuda.is_available() else 'cpu'}')"
      ]
    },
    {
      "cell_type": "markdown",
      "metadata": {},
      "source": [
        "## 3. Training Configuration\n",
        "\n",
        "Set up the trainer with appropriate hyperparameters for local testing."
      ]
    },
    {
      "cell_type": "code",
      "execution_count": 4,
      "metadata": {},
      "outputs": [],
      "source": [
        "# Initialize trainer\n",
        "trainer = Trainer(\n",
        "    model=model,\n",
        "    learning_rate=1e-4,\n",
        "    warmup_steps=100,  # Fewer warmup steps for testing\n",
        "    max_grad_norm=1.0,\n",
        "    use_wandb=False  # Disable W&B for local testing\n",
        ")\n",
        "\n",
        "# Training parameters\n",
        "EPOCHS = 2  # Fewer epochs for testing\n",
        "SAVE_PATH = '../checkpoints/model_local.pt'  # Local checkpoint path"
      ]
    },
    {
      "cell_type": "markdown",
      "metadata": {},
      "source": [
        "## 4. Training Loop\n",
        "\n",
        "Run the training loop and monitor the results."
      ]
    },
    {
      "cell_type": "code",
      "execution_count": null,
      "metadata": {},
      "outputs": [],
      "source": [
        "# Start training\n",
        "history = trainer.train(\n",
        "    train_dataloader=train_dataloader,\n",
        "    val_dataloader=val_dataloader,\n",
        "    epochs=EPOCHS,\n",
        "    save_path=SAVE_PATH,\n",
        "    log_interval=10  # More frequent logging for debugging\n",
        ")"
      ]
    },
    {
      "cell_type": "markdown",
      "metadata": {},
      "source": [
        "## 5. Analyze Results\n",
        "\n",
        "Plot training metrics to visualize the model's performance."
      ]
    },
    {
      "cell_type": "code",
      "execution_count": null,
      "metadata": {},
      "outputs": [],
      "source": [
        "import matplotlib.pyplot as plt\n",
        "\n",
        "# Plot training and validation loss\n",
        "plt.figure(figsize=(10, 5))\n",
        "plt.plot(history['train_loss'], label='Training Loss')\n",
        "plt.plot(history['val_loss'], label='Validation Loss')\n",
        "plt.title('Training and Validation Loss')\n",
        "plt.xlabel('Epoch')\n",
        "plt.ylabel('Loss')\n",
        "plt.legend()\n",
        "plt.show()\n",
        "\n",
        "# Plot perplexity\n",
        "plt.figure(figsize=(10, 5))\n",
        "plt.plot(history['train_perplexity'], label='Training Perplexity')\n",
        "plt.plot(history['val_perplexity'], label='Validation Perplexity')\n",
        "plt.title('Training and Validation Perplexity')\n",
        "plt.xlabel('Epoch')\n",
        "plt.ylabel('Perplexity')\n",
        "plt.legend()\n",
        "plt.show()"
      ]
    }
  ],
  "metadata": {
    "kernelspec": {
      "display_name": "venv",
      "language": "python",
      "name": "python3"
    },
    "language_info": {
      "codemirror_mode": {
        "name": "ipython",
        "version": 3
      },
      "file_extension": ".py",
      "mimetype": "text/x-python",
      "name": "python",
      "nbconvert_exporter": "python",
      "pygments_lexer": "ipython3",
      "version": "3.12.2"
    }
  },
  "nbformat": 4,
  "nbformat_minor": 2
}
