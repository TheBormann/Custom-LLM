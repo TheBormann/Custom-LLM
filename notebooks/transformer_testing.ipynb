{
  "cells": [
    {
      "cell_type": "markdown",
      "metadata": {},
      "source": [
        "# Transformer Model Testing\n",
        "\n",
        "This notebook demonstrates the basic functionality of our custom transformer implementation."
      ]
    },
    {
      "cell_type": "code",
      "execution_count": 1,
      "metadata": {},
      "outputs": [
        {
          "data": {
            "text/plain": [
              "<torch._C.Generator at 0x10ae4d190>"
            ]
          },
          "execution_count": 1,
          "metadata": {},
          "output_type": "execute_result"
        }
      ],
      "source": [
        "import sys\n",
        "sys.path.append('../')  # Add parent directory to path\n",
        "\n",
        "import torch\n",
        "import numpy as np\n",
        "import matplotlib.pyplot as plt\n",
        "from src.model import CustomTransformer\n",
        "\n",
        "# Set random seed for reproducibility\n",
        "torch.manual_seed(42)"
      ]
    },
    {
      "cell_type": "markdown",
      "metadata": {},
      "source": [
        "## Initialize a Small Transformer\n",
        "\n",
        "We'll create a minimal transformer with small dimensions for testing."
      ]
    },
    {
      "cell_type": "code",
      "execution_count": 2,
      "metadata": {},
      "outputs": [
        {
          "name": "stdout",
          "output_type": "stream",
          "text": [
            "Total parameters: 79844\n"
          ]
        }
      ],
      "source": [
        "# Model parameters\n",
        "vocab_size = 100  # Small vocabulary for testing\n",
        "d_model = 64     # Small embedding dimension\n",
        "n_heads = 4      # Number of attention heads\n",
        "n_layers = 2     # Number of transformer layers\n",
        "d_ff = 128       # Feed-forward dimension\n",
        "max_seq_length = 16  # Short sequences for testing\n",
        "\n",
        "# Initialize model\n",
        "model = CustomTransformer(\n",
        "    vocab_size=vocab_size,\n",
        "    d_model=d_model,\n",
        "    n_heads=n_heads,\n",
        "    n_layers=n_layers,\n",
        "    d_ff=d_ff,\n",
        "    max_seq_length=max_seq_length\n",
        ")\n",
        "\n",
        "print(f'Total parameters: {sum(p.numel() for p in model.parameters())}')"
      ]
    },
    {
      "cell_type": "markdown",
      "metadata": {},
      "source": [
        "## Create Sample Input\n",
        "\n",
        "Generate a batch of random sequences to test the model."
      ]
    },
    {
      "cell_type": "code",
      "execution_count": 3,
      "metadata": {},
      "outputs": [
        {
          "name": "stdout",
          "output_type": "stream",
          "text": [
            "Input shape: torch.Size([4, 10])\n",
            "Sample sequence: tensor([84, 87,  3, 93, 77,  2, 58, 87, 11, 51])\n"
          ]
        }
      ],
      "source": [
        "# Create sample batch\n",
        "batch_size = 4\n",
        "seq_length = 10  # Use shorter sequence than max_seq_length\n",
        "\n",
        "# Random input tokens\n",
        "x = torch.randint(0, vocab_size, (batch_size, seq_length))\n",
        "print('Input shape:', x.shape)\n",
        "print('Sample sequence:', x[0])  # Show first sequence in batch"
      ]
    },
    {
      "cell_type": "markdown",
      "metadata": {},
      "source": [
        "## Test Forward Pass\n",
        "\n",
        "Run the input through the transformer and examine the output."
      ]
    },
    {
      "cell_type": "code",
      "execution_count": 4,
      "metadata": {},
      "outputs": [
        {
          "ename": "AttributeError",
          "evalue": "'tuple' object has no attribute 'shape'",
          "output_type": "error",
          "traceback": [
            "\u001b[0;31m---------------------------------------------------------------------------\u001b[0m",
            "\u001b[0;31mAttributeError\u001b[0m                            Traceback (most recent call last)",
            "Cell \u001b[0;32mIn[4], line 5\u001b[0m\n\u001b[1;32m      2\u001b[0m \u001b[38;5;28;01mwith\u001b[39;00m torch\u001b[38;5;241m.\u001b[39mno_grad():  \u001b[38;5;66;03m# No need to track gradients for testing\u001b[39;00m\n\u001b[1;32m      3\u001b[0m     output \u001b[38;5;241m=\u001b[39m model(x)\n\u001b[0;32m----> 5\u001b[0m \u001b[38;5;28mprint\u001b[39m(\u001b[38;5;124m'\u001b[39m\u001b[38;5;124mOutput shape:\u001b[39m\u001b[38;5;124m'\u001b[39m, \u001b[43moutput\u001b[49m\u001b[38;5;241;43m.\u001b[39;49m\u001b[43mshape\u001b[49m)\n\u001b[1;32m      7\u001b[0m \u001b[38;5;66;03m# Examine output probabilities for first token of first sequence\u001b[39;00m\n\u001b[1;32m      8\u001b[0m first_token_probs \u001b[38;5;241m=\u001b[39m torch\u001b[38;5;241m.\u001b[39msoftmax(output[\u001b[38;5;241m0\u001b[39m, \u001b[38;5;241m0\u001b[39m], dim\u001b[38;5;241m=\u001b[39m\u001b[38;5;241m0\u001b[39m)\n",
            "\u001b[0;31mAttributeError\u001b[0m: 'tuple' object has no attribute 'shape'"
          ]
        }
      ],
      "source": [
        "# Forward pass\n",
        "with torch.no_grad():  # No need to track gradients for testing\n",
        "    output = model(x)\n",
        "\n",
        "print('Output shape:', output.shape)\n",
        "\n",
        "# Examine output probabilities for first token of first sequence\n",
        "first_token_probs = torch.softmax(output[0, 0], dim=0)\n",
        "print('Probability distribution for first token:')\n",
        "plt.figure(figsize=(10, 4))\n",
        "plt.bar(range(vocab_size), first_token_probs.numpy())\n",
        "plt.title('Output Probability Distribution (First Token)')\n",
        "plt.xlabel('Token ID')\n",
        "plt.ylabel('Probability')\n",
        "plt.show()"
      ]
    },
    {
      "cell_type": "markdown",
      "metadata": {},
      "source": [
        "## Test with Attention Mask\n",
        "\n",
        "Demonstrate the effect of masking on the transformer's output."
      ]
    },
    {
      "cell_type": "code",
      "execution_count": 6,
      "metadata": {},
      "outputs": [
        {
          "name": "stdout",
          "output_type": "stream",
          "text": [
            "Output difference (masked vs unmasked):\n",
            "Average absolute difference: 0.4136\n"
          ]
        }
      ],
      "source": [
        "# Create a simple attention mask (mask out second half of sequence)\n",
        "mask = torch.ones(batch_size, seq_length, seq_length)\n",
        "mask[:, :, seq_length//2:] = 0  # Mask out second half\n",
        "\n",
        "# Forward pass with mask\n",
        "with torch.no_grad():\n",
        "    masked_output = model(x, mask)\n",
        "\n",
        "# Compare outputs\n",
        "print('Output difference (masked vs unmasked):')\n",
        "diff = torch.abs(output - masked_output).mean().item()\n",
        "print(f'Average absolute difference: {diff:.4f}')"
      ]
    },
    {
      "cell_type": "markdown",
      "metadata": {},
      "source": [
        "## Model Response to Different Inputs\n",
        "\n",
        "Test how the model responds to different input patterns."
      ]
    },
    {
      "cell_type": "code",
      "execution_count": null,
      "metadata": {},
      "outputs": [
        {
          "data": {
            "image/png": "[encoded data removed]",
            "text/plain": [
              "<Figure size 1200x400 with 4 Axes>"
            ]
          },
          "metadata": {},
          "output_type": "display_data"
        }
      ],
      "source": [
        "# Create a repeating pattern input\n",
        "pattern = torch.tensor([1, 2, 3, 4] * (seq_length // 4))\n",
        "pattern_input = pattern.repeat(batch_size, 1)\n",
        "\n",
        "# Forward pass with pattern\n",
        "with torch.no_grad():\n",
        "    pattern_output = model(pattern_input)\n",
        "\n",
        "# Visualize output for the pattern\n",
        "plt.figure(figsize=(12, 4))\n",
        "plt.subplot(1, 2, 1)\n",
        "plt.imshow(pattern_input.numpy(), aspect='auto')\n",
        "plt.title('Pattern Input')\n",
        "plt.colorbar()\n",
        "\n",
        "plt.subplot(1, 2, 2)\n",
        "plt.imshow(torch.softmax(pattern_output[0], dim=1).numpy(), aspect='auto')\n",
        "plt.title('Model Output Probabilities')\n",
        "plt.colorbar()\n",
        "plt.tight_layout()\n",
        "plt.show()"
      ]
    }
  ],
  "metadata": {
    "kernelspec": {
      "display_name": "venv",
      "language": "python",
      "name": "python3"
    },
    "language_info": {
      "codemirror_mode": {
        "name": "ipython",
        "version": 3
      },
      "file_extension": ".py",
      "mimetype": "text/x-python",
      "name": "python",
      "nbconvert_exporter": "python",
      "pygments_lexer": "ipython3",
      "version": "3.12.2"
    }
  },
  "nbformat": 4,
  "nbformat_minor": 4
}
